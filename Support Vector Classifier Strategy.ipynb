{
 "cells": [
  {
   "cell_type": "markdown",
   "id": "2e33fe0a",
   "metadata": {},
   "source": [
    "# 1. Import the librariers"
   ]
  },
  {
   "cell_type": "code",
   "execution_count": 68,
   "id": "89f830b1",
   "metadata": {},
   "outputs": [],
   "source": [
    "# Machine learning\n",
    "from sklearn.svm import SVC\n",
    "from sklearn.metrics import accuracy_score\n",
    "\n",
    "# For data manipulation\n",
    "import pandas as pd\n",
    "import numpy as np\n",
    "\n",
    "# To plot\n",
    "import matplotlib.pyplot as plt\n",
    "plt.style.use('seaborn-darkgrid')\n",
    "\n",
    "# To ignore warnings\n",
    "import warnings\n",
    "warnings.filterwarnings(\"ignore\")"
   ]
  },
  {
   "cell_type": "markdown",
   "id": "6a874940",
   "metadata": {},
   "source": [
    "# 2. Read Nasdaq Data"
   ]
  },
  {
   "cell_type": "code",
   "execution_count": 69,
   "id": "31bc000f",
   "metadata": {},
   "outputs": [
    {
     "data": {
      "text/html": [
       "<div>\n",
       "<style scoped>\n",
       "    .dataframe tbody tr th:only-of-type {\n",
       "        vertical-align: middle;\n",
       "    }\n",
       "\n",
       "    .dataframe tbody tr th {\n",
       "        vertical-align: top;\n",
       "    }\n",
       "\n",
       "    .dataframe thead th {\n",
       "        text-align: right;\n",
       "    }\n",
       "</style>\n",
       "<table border=\"1\" class=\"dataframe\">\n",
       "  <thead>\n",
       "    <tr style=\"text-align: right;\">\n",
       "      <th></th>\n",
       "      <th>Open</th>\n",
       "      <th>High</th>\n",
       "      <th>Low</th>\n",
       "      <th>Close</th>\n",
       "      <th>Adj Close</th>\n",
       "      <th>Volume</th>\n",
       "    </tr>\n",
       "    <tr>\n",
       "      <th>Date</th>\n",
       "      <th></th>\n",
       "      <th></th>\n",
       "      <th></th>\n",
       "      <th></th>\n",
       "      <th></th>\n",
       "      <th></th>\n",
       "    </tr>\n",
       "  </thead>\n",
       "  <tbody>\n",
       "    <tr>\n",
       "      <th>2019-01-02</th>\n",
       "      <td>6506.910156</td>\n",
       "      <td>6693.709961</td>\n",
       "      <td>6506.879883</td>\n",
       "      <td>6665.939941</td>\n",
       "      <td>6665.939941</td>\n",
       "      <td>2261800000</td>\n",
       "    </tr>\n",
       "    <tr>\n",
       "      <th>2019-01-03</th>\n",
       "      <td>6584.770020</td>\n",
       "      <td>6600.209961</td>\n",
       "      <td>6457.129883</td>\n",
       "      <td>6463.500000</td>\n",
       "      <td>6463.500000</td>\n",
       "      <td>2631550000</td>\n",
       "    </tr>\n",
       "    <tr>\n",
       "      <th>2019-01-04</th>\n",
       "      <td>6567.140137</td>\n",
       "      <td>6760.689941</td>\n",
       "      <td>6554.240234</td>\n",
       "      <td>6738.859863</td>\n",
       "      <td>6738.859863</td>\n",
       "      <td>2596150000</td>\n",
       "    </tr>\n",
       "    <tr>\n",
       "      <th>2019-01-07</th>\n",
       "      <td>6757.529785</td>\n",
       "      <td>6855.600098</td>\n",
       "      <td>6741.399902</td>\n",
       "      <td>6823.470215</td>\n",
       "      <td>6823.470215</td>\n",
       "      <td>2523450000</td>\n",
       "    </tr>\n",
       "    <tr>\n",
       "      <th>2019-01-08</th>\n",
       "      <td>6893.439941</td>\n",
       "      <td>6909.580078</td>\n",
       "      <td>6795.859863</td>\n",
       "      <td>6897.000000</td>\n",
       "      <td>6897.000000</td>\n",
       "      <td>2407340000</td>\n",
       "    </tr>\n",
       "  </tbody>\n",
       "</table>\n",
       "</div>"
      ],
      "text/plain": [
       "                   Open         High          Low        Close    Adj Close  \\\n",
       "Date                                                                          \n",
       "2019-01-02  6506.910156  6693.709961  6506.879883  6665.939941  6665.939941   \n",
       "2019-01-03  6584.770020  6600.209961  6457.129883  6463.500000  6463.500000   \n",
       "2019-01-04  6567.140137  6760.689941  6554.240234  6738.859863  6738.859863   \n",
       "2019-01-07  6757.529785  6855.600098  6741.399902  6823.470215  6823.470215   \n",
       "2019-01-08  6893.439941  6909.580078  6795.859863  6897.000000  6897.000000   \n",
       "\n",
       "                Volume  \n",
       "Date                    \n",
       "2019-01-02  2261800000  \n",
       "2019-01-03  2631550000  \n",
       "2019-01-04  2596150000  \n",
       "2019-01-07  2523450000  \n",
       "2019-01-08  2407340000  "
      ]
     },
     "execution_count": 69,
     "metadata": {},
     "output_type": "execute_result"
    }
   ],
   "source": [
    "# Read the csv file using read_csv method of pandas\n",
    "df = pd.read_csv('NASDAQ.csv', index_col=0)\n",
    "\n",
    "# Convert index to datetime format\n",
    "df.index = pd.to_datetime(df.index)\n",
    "\n",
    "# Print the first five rows \n",
    "df.head()"
   ]
  },
  {
   "cell_type": "markdown",
   "id": "9bcbb3be",
   "metadata": {},
   "source": [
    "# 3. Define the explanatory variables"
   ]
  },
  {
   "cell_type": "code",
   "execution_count": 70,
   "id": "68cf985f",
   "metadata": {},
   "outputs": [
    {
     "data": {
      "text/html": [
       "<div>\n",
       "<style scoped>\n",
       "    .dataframe tbody tr th:only-of-type {\n",
       "        vertical-align: middle;\n",
       "    }\n",
       "\n",
       "    .dataframe tbody tr th {\n",
       "        vertical-align: top;\n",
       "    }\n",
       "\n",
       "    .dataframe thead th {\n",
       "        text-align: right;\n",
       "    }\n",
       "</style>\n",
       "<table border=\"1\" class=\"dataframe\">\n",
       "  <thead>\n",
       "    <tr style=\"text-align: right;\">\n",
       "      <th></th>\n",
       "      <th>Open-Close</th>\n",
       "      <th>High-Low</th>\n",
       "    </tr>\n",
       "    <tr>\n",
       "      <th>Date</th>\n",
       "      <th></th>\n",
       "      <th></th>\n",
       "    </tr>\n",
       "  </thead>\n",
       "  <tbody>\n",
       "    <tr>\n",
       "      <th>2019-01-02</th>\n",
       "      <td>-159.029785</td>\n",
       "      <td>186.830078</td>\n",
       "    </tr>\n",
       "    <tr>\n",
       "      <th>2019-01-03</th>\n",
       "      <td>121.270020</td>\n",
       "      <td>143.080078</td>\n",
       "    </tr>\n",
       "    <tr>\n",
       "      <th>2019-01-04</th>\n",
       "      <td>-171.719726</td>\n",
       "      <td>206.449707</td>\n",
       "    </tr>\n",
       "    <tr>\n",
       "      <th>2019-01-07</th>\n",
       "      <td>-65.940430</td>\n",
       "      <td>114.200196</td>\n",
       "    </tr>\n",
       "    <tr>\n",
       "      <th>2019-01-08</th>\n",
       "      <td>-3.560059</td>\n",
       "      <td>113.720215</td>\n",
       "    </tr>\n",
       "  </tbody>\n",
       "</table>\n",
       "</div>"
      ],
      "text/plain": [
       "            Open-Close    High-Low\n",
       "Date                              \n",
       "2019-01-02 -159.029785  186.830078\n",
       "2019-01-03  121.270020  143.080078\n",
       "2019-01-04 -171.719726  206.449707\n",
       "2019-01-07  -65.940430  114.200196\n",
       "2019-01-08   -3.560059  113.720215"
      ]
     },
     "execution_count": 70,
     "metadata": {},
     "output_type": "execute_result"
    }
   ],
   "source": [
    "# Create predictor variables\n",
    "df['Open-Close'] = df.Open - df.Close\n",
    "df['High-Low'] = df.High - df.Low\n",
    "\n",
    "# Store all predictor variables in a variable X\n",
    "X = df[['Open-Close', 'High-Low']]\n",
    "X.head()"
   ]
  },
  {
   "cell_type": "markdown",
   "id": "0a241579",
   "metadata": {},
   "source": [
    "# 4. Define the target variable"
   ]
  },
  {
   "cell_type": "code",
   "execution_count": 71,
   "id": "6f63dfca",
   "metadata": {},
   "outputs": [
    {
     "data": {
      "text/plain": [
       "array([0, 1, 1, 1, 1, 1, 0, 0, 1, 1, 1, 1, 0, 1, 1, 1, 0, 0, 1, 1, 0, 1,\n",
       "       1, 0, 0, 1, 1, 1, 1, 1, 1, 1, 1, 0, 1, 1, 0, 1, 0, 1, 0, 0, 0, 0,\n",
       "       0, 1, 1, 1, 0, 1, 1, 1, 1, 1, 0, 0, 1, 0, 1, 1, 1, 1, 1, 0, 1, 1,\n",
       "       0, 1, 0, 1, 0, 1, 0, 1, 1, 1, 0, 1, 1, 1, 0, 0, 0, 1, 0, 0, 0, 0,\n",
       "       1, 0, 1, 1, 1, 0, 0, 1, 0, 0, 1, 0, 0, 1, 0, 0, 1, 1, 1, 1, 1, 0,\n",
       "       0, 1, 0, 1, 1, 1, 1, 0, 0, 0, 1, 1, 1, 1, 1, 1, 0, 0, 1, 1, 0, 1,\n",
       "       1, 0, 0, 1, 0, 1, 1, 1, 0, 1, 0, 0, 0, 0, 0, 0, 1, 1, 1, 0, 0, 1,\n",
       "       0, 0, 1, 1, 0, 1, 0, 0, 1, 0, 1, 1, 0, 0, 1, 1, 0, 0, 0, 1, 1, 0,\n",
       "       0, 1, 0, 1, 0, 0, 0, 1, 0, 0, 1, 0, 0, 1, 1, 0, 0, 1, 1, 1, 0, 1,\n",
       "       0, 1, 0, 1, 0, 1, 1, 1, 1, 0, 1, 0, 1, 1, 1, 0, 1, 1, 0, 1, 0, 0,\n",
       "       1, 1, 1, 0, 0, 1, 1, 1, 1, 0, 0, 0, 1, 1, 1, 0, 0, 1, 1, 1, 1, 1,\n",
       "       1, 1, 1, 1, 1, 1, 0, 0, 1, 1, 0, 1, 0, 1, 1, 0, 1, 0, 1, 1, 1, 0,\n",
       "       1, 1, 0, 0, 1, 1, 1, 0, 1, 1, 1, 1, 0, 1, 1, 1, 0, 1, 1, 1, 0, 0,\n",
       "       0, 0, 1, 0, 1, 1, 0, 1, 0, 0, 0, 1, 0, 0, 1, 0, 1, 0, 1, 0, 0, 1,\n",
       "       0, 1, 0, 1, 0, 0, 1, 0, 1, 0, 1, 1, 1, 1, 0, 1, 1, 0, 0, 1, 0, 1,\n",
       "       1, 0, 1, 0, 0, 1, 1, 1, 1, 1, 1, 0, 0, 1, 1, 1, 0, 1, 0, 1, 1, 1,\n",
       "       0, 1, 1, 1, 1, 0, 1, 1, 1, 1, 0, 1, 1, 1, 1, 1, 1, 1, 1, 0, 1, 0,\n",
       "       1, 1, 1, 1, 1, 0, 1, 1, 1, 0, 1, 1, 0, 1, 1, 0, 1, 0, 0, 1, 0, 1,\n",
       "       1, 1, 1, 1, 1, 1, 0, 0, 0, 1, 1, 0, 1, 1, 0, 1, 1, 1, 1, 1, 0, 1,\n",
       "       1, 1, 1, 0, 0, 0, 1, 0, 0, 1, 1, 0, 0, 0, 0, 1, 0, 1, 1, 1, 0, 1,\n",
       "       1, 0, 1, 0, 1, 1, 1, 1, 0, 0, 0, 0, 0, 1, 0, 1, 1, 0, 1, 0, 1, 0,\n",
       "       1, 1, 1, 1, 1, 0, 0, 1, 0, 1, 1, 0, 0, 1, 0, 1, 1, 1, 1, 0, 1, 0,\n",
       "       1, 1, 1, 1, 0, 1, 0, 1, 1, 1, 1, 0, 0, 1, 0, 1, 1, 0, 1, 1, 0, 1,\n",
       "       0, 1, 1, 0, 1, 1, 0, 0, 1, 1, 1, 1, 1, 0, 0, 1, 0, 1, 1, 0, 1, 1,\n",
       "       1, 1, 0, 1, 1, 0, 0, 0, 1, 0, 0, 1, 0, 1, 1, 0, 0, 0, 1, 0, 1, 0,\n",
       "       1, 0, 1, 1, 1, 0, 1, 1, 0, 0, 1, 1, 0, 0, 1, 1, 1, 0, 0, 1, 1, 0,\n",
       "       1, 0, 1, 1, 0, 0, 1, 0, 1, 1, 0, 0, 1, 0, 0, 0, 0, 1, 1, 0, 0, 0,\n",
       "       1, 1, 0, 0, 0, 1, 0, 1, 0, 1, 0, 1, 0, 1, 0, 1, 1, 1, 0, 1, 1, 1,\n",
       "       0, 0, 1, 0, 1, 1, 1, 1, 0, 1, 1, 0, 1, 1, 1, 1, 0, 1, 1, 0, 0, 0,\n",
       "       0, 0, 1, 1, 1, 1, 1, 0, 1, 1, 0, 1, 1, 1, 1, 0, 1, 0, 0, 1, 1, 0,\n",
       "       0, 0, 1, 1, 1, 1, 1, 0, 1, 1, 0, 1, 1, 1, 1, 0, 0, 0, 0, 0, 1, 1,\n",
       "       0, 0, 1, 1, 1, 0, 0, 0, 0, 0, 1, 0, 1, 1, 1, 0, 0, 0, 1, 1, 1, 1,\n",
       "       1, 0, 1, 0, 1, 1, 1, 1, 1, 1, 1, 1, 1, 1, 1, 0, 0, 1, 1, 0, 1, 0,\n",
       "       1, 1, 0, 0, 1, 0, 1, 0, 0, 1, 0, 1, 1, 1, 0, 1, 0, 0, 1, 0, 0, 0,\n",
       "       1, 1, 1, 1, 0, 0, 0, 0, 0])"
      ]
     },
     "execution_count": 71,
     "metadata": {},
     "output_type": "execute_result"
    }
   ],
   "source": [
    "# Target variables\n",
    "y = np.where(df['Close'].shift(-1) > df['Close'], 1, 0)\n",
    "\n",
    "# Print y\n",
    "y"
   ]
  },
  {
   "cell_type": "markdown",
   "id": "026212b4",
   "metadata": {},
   "source": [
    "# 5. Split the data into train and test"
   ]
  },
  {
   "cell_type": "code",
   "execution_count": 72,
   "id": "589f9b42",
   "metadata": {},
   "outputs": [],
   "source": [
    "# Define the split percentage\n",
    "split_percentage = 0.6\n",
    "split = int(split_percentage*len(df))\n",
    "\n",
    "# Train data set\n",
    "X_train = X[:split]\n",
    "y_train = y[:split]\n",
    "\n",
    "# Test data set\n",
    "X_test = X[split:]\n",
    "y_test = y[split:]"
   ]
  },
  {
   "cell_type": "markdown",
   "id": "451592a1",
   "metadata": {},
   "source": [
    "# 6. Support Vector Classifier (SVC)"
   ]
  },
  {
   "cell_type": "code",
   "execution_count": 73,
   "id": "c9b475b5",
   "metadata": {},
   "outputs": [],
   "source": [
    "# Support vector classifier\n",
    "cls = SVC().fit(X_train, y_train)"
   ]
  },
  {
   "cell_type": "code",
   "execution_count": 74,
   "id": "9d78af63",
   "metadata": {},
   "outputs": [],
   "source": [
    "# Predict Signals\n",
    "y_predict = cls.predict(X_test)"
   ]
  },
  {
   "cell_type": "markdown",
   "id": "d79f1639",
   "metadata": {},
   "source": [
    "# 7. Classifier accuracy"
   ]
  },
  {
   "cell_type": "code",
   "execution_count": 75,
   "id": "0f873066",
   "metadata": {},
   "outputs": [
    {
     "name": "stdout",
     "output_type": "stream",
     "text": [
      "Accuracy: 57.76%\n"
     ]
    }
   ],
   "source": [
    "# train and test accuracy\n",
    "accuracy_test = accuracy_score(y_test, y_predict)\n",
    "\n",
    "print('Accuracy:{: .2f}%'.format(accuracy_test*100))"
   ]
  },
  {
   "cell_type": "markdown",
   "id": "792d8040",
   "metadata": {},
   "source": [
    "# 8. Strategy implementation "
   ]
  },
  {
   "cell_type": "code",
   "execution_count": 76,
   "id": "7582ffd2",
   "metadata": {},
   "outputs": [
    {
     "data": {
      "image/png": "[encoded data removed]",
      "text/plain": [
       "<Figure size 1500x700 with 1 Axes>"
      ]
     },
     "metadata": {},
     "output_type": "display_data"
    }
   ],
   "source": [
    "# Predicted Signal\n",
    "df['Predicted_Signal'] = cls.predict(X)\n",
    "\n",
    "# Calculate daily returns\n",
    "df['Returns'] = df.Close.pct_change()\n",
    "\n",
    "# Calculate strategy returns\n",
    "df['Strategy_Returns'] = df.Returns * df.Predicted_Signal.shift(1)\n",
    "\n",
    "# Calculate geometric returns\n",
    "df['cumulative_returns'] = (df.Strategy_Returns.iloc[split:]+1).cumprod()\n",
    "\n",
    "# Set the title and axis labels\n",
    "plt.title(\"Cumulative Returns Plot\", fontsize=16)\n",
    "plt.ylabel(\"Cumulative Returns\")\n",
    "plt.xlabel(\"Date\")\n",
    "\n",
    "# Plot geometric returns\n",
    "df['cumulative_returns'].plot(figsize=(15, 7),color='g')\n",
    "\n",
    "plt.show()"
   ]
  }
 ],
 "metadata": {
  "kernelspec": {
   "display_name": "Python 3 (ipykernel)",
   "language": "python",
   "name": "python3"
  },
  "language_info": {
   "codemirror_mode": {
    "name": "ipython",
    "version": 3
   },
   "file_extension": ".py",
   "mimetype": "text/x-python",
   "name": "python",
   "nbconvert_exporter": "python",
   "pygments_lexer": "ipython3",
   "version": "3.8.13"
  }
 },
 "nbformat": 4,
 "nbformat_minor": 5
}
